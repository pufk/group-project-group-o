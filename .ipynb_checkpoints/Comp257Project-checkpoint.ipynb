{
 "cells": [
  {
   "cell_type": "markdown",
   "metadata": {},
   "source": [
    "# COMP257 Project"
   ]
  },
  {
   "cell_type": "markdown",
   "metadata": {},
   "source": [
    "# Final work:"
   ]
  },
  {
   "cell_type": "code",
   "execution_count": null,
   "metadata": {},
   "outputs": [],
   "source": [
    "# working code to be put here"
   ]
  },
  {
   "cell_type": "markdown",
   "metadata": {},
   "source": [
    "# Kyle:"
   ]
  },
  {
   "cell_type": "code",
   "execution_count": 3,
   "metadata": {},
   "outputs": [],
   "source": [
    "import numpy as np\n",
    "import pandas as pd"
   ]
  },
  {
   "cell_type": "markdown",
   "metadata": {},
   "source": [
    "## Read in the data:\n",
    "<p>\n",
    "Note: git hub has limits in fiel size <100mb data ~ 174mb <br>\n",
    "have used data in split up form, read in and concatonated into df. <br>\n",
    "    Columns = 15 <br>\n",
    "    Records = 476805\n",
    "    \n",
    "</p>"
   ]
  },
  {
   "cell_type": "code",
   "execution_count": 10,
   "metadata": {},
   "outputs": [],
   "source": [
    "# reading data into df\n",
    "# https://stackoverflow.com/questions/20906474/import-multiple-csv-files-into-pandas-and-concatenate-into-one-dataframe\n",
    "\n",
    "import glob\n",
    "path = r'data'                                         \n",
    "all_files = glob.glob(path + \"/*.xlsx\")\n",
    "\n",
    "df_from_each_file = (pd.read_excel(f) for f in all_files)\n",
    "df = pd.concat(df_from_each_file, ignore_index=True)\n",
    "\n",
    "# note this takes a while to do ~ 60 sec"
   ]
  },
  {
   "cell_type": "markdown",
   "metadata": {},
   "source": [
    "# ------------------------------------------------------------------------------------\n",
    "\n",
    "# kyle"
   ]
  },
  {
   "cell_type": "code",
   "execution_count": 81,
   "metadata": {},
   "outputs": [
    {
     "name": "stdout",
     "output_type": "stream",
     "text": [
      "Shape:  (476805, 15)\n",
      "Number                       object\n",
      "Created              datetime64[ns]\n",
      "Updated              datetime64[ns]\n",
      "Short description            object\n",
      "State                        object\n",
      "Assignment group             object\n",
      "Active                         bool\n",
      "Closed               datetime64[ns]\n",
      "Domain                       object\n",
      "Duration                      int64\n",
      "Expected start       datetime64[ns]\n",
      "Faculty / Office             object\n",
      "Location                     object\n",
      "Task type                    object\n",
      "Updates                       int64\n",
      "dtype: object\n"
     ]
    },
    {
     "data": {
      "text/html": [
       "<div>\n",
       "<style scoped>\n",
       "    .dataframe tbody tr th:only-of-type {\n",
       "        vertical-align: middle;\n",
       "    }\n",
       "\n",
       "    .dataframe tbody tr th {\n",
       "        vertical-align: top;\n",
       "    }\n",
       "\n",
       "    .dataframe thead th {\n",
       "        text-align: right;\n",
       "    }\n",
       "</style>\n",
       "<table border=\"1\" class=\"dataframe\">\n",
       "  <thead>\n",
       "    <tr style=\"text-align: right;\">\n",
       "      <th></th>\n",
       "      <th>Number</th>\n",
       "      <th>Created</th>\n",
       "      <th>Updated</th>\n",
       "      <th>Short description</th>\n",
       "      <th>State</th>\n",
       "      <th>Assignment group</th>\n",
       "      <th>Active</th>\n",
       "      <th>Closed</th>\n",
       "      <th>Domain</th>\n",
       "      <th>Duration</th>\n",
       "      <th>Expected start</th>\n",
       "      <th>Faculty / Office</th>\n",
       "      <th>Location</th>\n",
       "      <th>Task type</th>\n",
       "      <th>Updates</th>\n",
       "    </tr>\n",
       "  </thead>\n",
       "  <tbody>\n",
       "    <tr>\n",
       "      <th>0</th>\n",
       "      <td>CALL0311421</td>\n",
       "      <td>2018-01-01 01:52:00</td>\n",
       "      <td>2018-01-02 17:28:00</td>\n",
       "      <td>HDR Online Application Password Reset Request</td>\n",
       "      <td>Closed Complete</td>\n",
       "      <td>IT Service Desk</td>\n",
       "      <td>False</td>\n",
       "      <td>2018-01-02 17:27:00</td>\n",
       "      <td>global</td>\n",
       "      <td>142500</td>\n",
       "      <td>NaT</td>\n",
       "      <td>Affiliates</td>\n",
       "      <td>NaN</td>\n",
       "      <td>Call</td>\n",
       "      <td>6</td>\n",
       "    </tr>\n",
       "    <tr>\n",
       "      <th>1</th>\n",
       "      <td>CALL0311422</td>\n",
       "      <td>2018-01-01 01:53:00</td>\n",
       "      <td>2018-01-02 16:49:00</td>\n",
       "      <td>HDR Online Application Password Reset Request</td>\n",
       "      <td>Closed Complete</td>\n",
       "      <td>IT Service Desk</td>\n",
       "      <td>False</td>\n",
       "      <td>2018-01-02 16:48:00</td>\n",
       "      <td>global</td>\n",
       "      <td>140100</td>\n",
       "      <td>NaT</td>\n",
       "      <td>Affiliates</td>\n",
       "      <td>NaN</td>\n",
       "      <td>Call</td>\n",
       "      <td>6</td>\n",
       "    </tr>\n",
       "    <tr>\n",
       "      <th>2</th>\n",
       "      <td>RITM0320827</td>\n",
       "      <td>2018-01-01 07:31:00</td>\n",
       "      <td>2018-01-01 08:26:00</td>\n",
       "      <td>Academic Management Information System (AMIS) ...</td>\n",
       "      <td>Closed Complete</td>\n",
       "      <td>NaN</td>\n",
       "      <td>False</td>\n",
       "      <td>2018-01-01 08:26:00</td>\n",
       "      <td>global</td>\n",
       "      <td>0</td>\n",
       "      <td>NaT</td>\n",
       "      <td>Information Technology</td>\n",
       "      <td>E6A L0</td>\n",
       "      <td>Requested Item</td>\n",
       "      <td>5</td>\n",
       "    </tr>\n",
       "    <tr>\n",
       "      <th>3</th>\n",
       "      <td>REQ0299253</td>\n",
       "      <td>2018-01-01 07:31:00</td>\n",
       "      <td>2018-01-01 08:26:00</td>\n",
       "      <td>NaN</td>\n",
       "      <td>Closed Complete</td>\n",
       "      <td>NaN</td>\n",
       "      <td>False</td>\n",
       "      <td>2018-01-01 08:26:00</td>\n",
       "      <td>global</td>\n",
       "      <td>0</td>\n",
       "      <td>NaT</td>\n",
       "      <td>Information Technology</td>\n",
       "      <td>E6A L0</td>\n",
       "      <td>Request</td>\n",
       "      <td>1</td>\n",
       "    </tr>\n",
       "    <tr>\n",
       "      <th>4</th>\n",
       "      <td>TASK0358205</td>\n",
       "      <td>2018-01-01 07:31:00</td>\n",
       "      <td>2018-01-01 08:26:00</td>\n",
       "      <td>AMIS: AMIS HR FILES - 2017-12-24 20:00:04</td>\n",
       "      <td>Closed Complete</td>\n",
       "      <td>AMIS</td>\n",
       "      <td>False</td>\n",
       "      <td>2018-01-01 08:26:00</td>\n",
       "      <td>global</td>\n",
       "      <td>3300</td>\n",
       "      <td>2018-01-01 07:31:00</td>\n",
       "      <td>Information Technology</td>\n",
       "      <td>E6A L0</td>\n",
       "      <td>Catalog Task</td>\n",
       "      <td>3</td>\n",
       "    </tr>\n",
       "  </tbody>\n",
       "</table>\n",
       "</div>"
      ],
      "text/plain": [
       "        Number             Created             Updated  \\\n",
       "0  CALL0311421 2018-01-01 01:52:00 2018-01-02 17:28:00   \n",
       "1  CALL0311422 2018-01-01 01:53:00 2018-01-02 16:49:00   \n",
       "2  RITM0320827 2018-01-01 07:31:00 2018-01-01 08:26:00   \n",
       "3   REQ0299253 2018-01-01 07:31:00 2018-01-01 08:26:00   \n",
       "4  TASK0358205 2018-01-01 07:31:00 2018-01-01 08:26:00   \n",
       "\n",
       "                                   Short description            State  \\\n",
       "0      HDR Online Application Password Reset Request  Closed Complete   \n",
       "1      HDR Online Application Password Reset Request  Closed Complete   \n",
       "2  Academic Management Information System (AMIS) ...  Closed Complete   \n",
       "3                                                NaN  Closed Complete   \n",
       "4          AMIS: AMIS HR FILES - 2017-12-24 20:00:04  Closed Complete   \n",
       "\n",
       "  Assignment group  Active              Closed  Domain  Duration  \\\n",
       "0  IT Service Desk   False 2018-01-02 17:27:00  global    142500   \n",
       "1  IT Service Desk   False 2018-01-02 16:48:00  global    140100   \n",
       "2              NaN   False 2018-01-01 08:26:00  global         0   \n",
       "3              NaN   False 2018-01-01 08:26:00  global         0   \n",
       "4             AMIS   False 2018-01-01 08:26:00  global      3300   \n",
       "\n",
       "       Expected start        Faculty / Office Location       Task type  \\\n",
       "0                 NaT              Affiliates      NaN            Call   \n",
       "1                 NaT              Affiliates      NaN            Call   \n",
       "2                 NaT  Information Technology   E6A L0  Requested Item   \n",
       "3                 NaT  Information Technology   E6A L0         Request   \n",
       "4 2018-01-01 07:31:00  Information Technology   E6A L0    Catalog Task   \n",
       "\n",
       "   Updates  \n",
       "0        6  \n",
       "1        6  \n",
       "2        5  \n",
       "3        1  \n",
       "4        3  "
      ]
     },
     "execution_count": 81,
     "metadata": {},
     "output_type": "execute_result"
    }
   ],
   "source": [
    "# peeking at the data\n",
    "\n",
    "print(\"Shape: \", df.shape)\n",
    "print(df.dtypes)\n",
    "df.head(5)"
   ]
  },
  {
   "cell_type": "markdown",
   "metadata": {},
   "source": [
    "#### Columns that will need to be Labeled for modeling as they are strings:\n",
    "\n",
    "- State\n",
    "- Assignment group\n",
    "- Domain\n",
    "- Faculty / Office\n",
    "- Location\n",
    "- Task type\n",
    "\n",
    "These will can be labled and discrete with a finite set of cases.\n",
    "\n",
    "#### More difficult columns:\n",
    "\n",
    "\n",
    "<B>Numbers:</B> is hybrid with task type and identifying number \n",
    "        - Will need to strip task of type part and use combined key of number and type\n",
    "\n",
    "<B>Short description:</B> is a complicated string with lots of data that cannot just be labled.\n",
    "        - Will need to do some natural language processing to analyse TBD"
   ]
  },
  {
   "cell_type": "markdown",
   "metadata": {},
   "source": [
    "## Further processing of data:\n",
    "\n",
    "Note:\n",
    "- about"
   ]
  },
  {
   "cell_type": "code",
   "execution_count": 82,
   "metadata": {},
   "outputs": [
    {
     "name": "stdout",
     "output_type": "stream",
     "text": [
      "Data with nulls:\n",
      " Number                    0\n",
      "Created                   0\n",
      "Updated                   0\n",
      "Short description    119752\n",
      "State                     0\n",
      "Assignment group     236438\n",
      "Active                    0\n",
      "Closed                10166\n",
      "Domain                    0\n",
      "Duration                  0\n",
      "Expected start       352715\n",
      "Faculty / Office      31156\n",
      "Location             288891\n",
      "Task type                 0\n",
      "Updates                   0\n",
      "dtype: int64 \n",
      "\n",
      "#############################################\n",
      "Note \"Request\", \"Call\",\"Group approval\" all do not have a short description which is vital to our model hence these types will be dropped.\n",
      "#############################################\n",
      "\n",
      "Data with removed nulls Number                    0\n",
      "Created                   0\n",
      "Updated                   0\n",
      "Short description         0\n",
      "State                     0\n",
      "Assignment group     118471\n",
      "Active                    0\n",
      "Closed                 7014\n",
      "Domain                    0\n",
      "Duration                  0\n",
      "Expected start       135378\n",
      "Faculty / Office      15844\n",
      "Location             144094\n",
      "Task type                 0\n",
      "Updates                   0\n",
      "dtype: int64\n"
     ]
    }
   ],
   "source": [
    "# TEMP STUFF\n",
    "\n",
    "\n",
    "\n",
    "#df = df.sort_values(by=['Number'], ascending=True)\n",
    "#TASK0475834\n",
    "#print(\"Shape: \"+ str(df.shape))\n",
    "#print(df['Number'].iloc[0])\n",
    "#df.head()\n",
    "\n",
    "#df.head(5)\n",
    "\n",
    "# requests dont have a short description (i believe details are in full description \n",
    "# (we dont have access to this as it contains personal ingormation hence we will \n",
    "# drop all request data as it would just skew the model))\n",
    "\n",
    "\n",
    "print(\"Data with nulls:\\n\",df.isna().sum(),\"\\n\")\n",
    "\n",
    "df_tmp= df[(df['Task type'] != \"Request\") & (df['Task type'] != \"Call\")& (df['Task type'] != \"Group approval\")]\n",
    "print(\"#############################################\")\n",
    "\n",
    "print('Note \"Request\", \"Call\",\"Group approval\" all do not have a short description which is vital to our model hence these types will be dropped.')\n",
    "print(\"#############################################\\n\")\n",
    "print(\"Data with removed nulls\",df_tmp.isna().sum())\n",
    "\n",
    "\n",
    "\n",
    "\n",
    "\n",
    "\n",
    "\n",
    "## continue here making decisions on what to do with nulls 04/11/18 -kyle\n",
    "\n",
    "\n",
    "\n",
    "\n",
    "\n",
    "\n",
    "\n",
    "\n",
    "#print(tmp[tmp['Task type'] == \"Group approval\" ].shape)\n",
    "#df_tmp[df_tmp['Short description'].isna()].head(10)\n",
    "\n",
    "#df[df['Short description'].length() > 0]\n",
    "\n",
    "\n",
    "\n",
    "# only 600 of 1800 \"call\" have a short description and will not be usefull in model\n",
    "#tmp= df_tmp[df_tmp['Short description'].isna()]\n",
    "#print(tmp.shape)\n",
    "#print(tmp[tmp['Task type'] == \"Call\" ].shape)\n",
    "#tmp[tmp['Task type'] == \"Call\"].head(20)\n"
   ]
  },
  {
   "cell_type": "markdown",
   "metadata": {},
   "source": [
    "- Distribution of work by group (HR, IT service desk, Property)\n"
   ]
  },
  {
   "cell_type": "code",
   "execution_count": null,
   "metadata": {},
   "outputs": [],
   "source": []
  },
  {
   "cell_type": "markdown",
   "metadata": {},
   "source": [
    "- Distribution of tasks by category (iLearn, Hardware, iPrint, Invoices)\n",
    "\n",
    "\n"
   ]
  },
  {
   "cell_type": "code",
   "execution_count": null,
   "metadata": {},
   "outputs": [],
   "source": []
  },
  {
   "cell_type": "markdown",
   "metadata": {},
   "source": [
    "- Efficiency of service groups based on completion times"
   ]
  },
  {
   "cell_type": "code",
   "execution_count": null,
   "metadata": {},
   "outputs": [],
   "source": []
  },
  {
   "cell_type": "markdown",
   "metadata": {},
   "source": [
    "- Visual overlay of request type over map by location"
   ]
  },
  {
   "cell_type": "code",
   "execution_count": null,
   "metadata": {},
   "outputs": [],
   "source": []
  },
  {
   "cell_type": "markdown",
   "metadata": {},
   "source": [
    "- A predictive model to determine the difficulty of a task and an expected finish time"
   ]
  },
  {
   "cell_type": "code",
   "execution_count": null,
   "metadata": {},
   "outputs": [],
   "source": []
  },
  {
   "cell_type": "markdown",
   "metadata": {},
   "source": [
    "\n",
    "# ---------------------------------------------------------------------------------------\n",
    "# Kasun:\n"
   ]
  },
  {
   "cell_type": "code",
   "execution_count": null,
   "metadata": {},
   "outputs": [],
   "source": []
  },
  {
   "cell_type": "code",
   "execution_count": null,
   "metadata": {},
   "outputs": [],
   "source": []
  }
 ],
 "metadata": {
  "kernelspec": {
   "display_name": "Python 3",
   "language": "python",
   "name": "python3"
  },
  "language_info": {
   "codemirror_mode": {
    "name": "ipython",
    "version": 3
   },
   "file_extension": ".py",
   "mimetype": "text/x-python",
   "name": "python",
   "nbconvert_exporter": "python",
   "pygments_lexer": "ipython3",
   "version": "3.6.5"
  }
 },
 "nbformat": 4,
 "nbformat_minor": 2
}
